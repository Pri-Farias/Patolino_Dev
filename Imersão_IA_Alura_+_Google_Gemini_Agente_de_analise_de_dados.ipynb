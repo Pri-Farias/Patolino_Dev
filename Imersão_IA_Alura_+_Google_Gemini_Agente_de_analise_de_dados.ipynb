{
  "nbformat": 4,
  "nbformat_minor": 0,
  "metadata": {
    "colab": {
      "provenance": [],
      "include_colab_link": true
    },
    "kernelspec": {
      "name": "python3",
      "display_name": "Python 3"
    },
    "language_info": {
      "name": "python"
    }
  },
  "cells": [
    {
      "cell_type": "markdown",
      "metadata": {
        "id": "view-in-github",
        "colab_type": "text"
      },
      "source": [
        "<a href=\"https://colab.research.google.com/github/Pri-Farias/Patolino_Dev/blob/main/Imers%C3%A3o_IA_Alura_%2B_Google_Gemini_Agente_de_analise_de_dados.ipynb\" target=\"_parent\"><img src=\"https://colab.research.google.com/assets/colab-badge.svg\" alt=\"Open In Colab\"/></a>"
      ]
    },
    {
      "cell_type": "code",
      "source": [
        "%pip install -U -q google-genai\n",
        "%pip install -U -q google-adk"
      ],
      "metadata": {
        "id": "UCCbECexLk_h",
        "colab": {
          "base_uri": "https://localhost:8080/"
        },
        "outputId": "e972ed99-6a0d-4552-a1c5-97120aa0022a"
      },
      "execution_count": 50,
      "outputs": [
        {
          "output_type": "stream",
          "name": "stdout",
          "text": [
            "\u001b[?25l   \u001b[90m━━━━━━━━━━━━━━━━━━━━━━━━━━━━━━━━━━━━━━━━\u001b[0m \u001b[32m0.0/1.2 MB\u001b[0m \u001b[31m?\u001b[0m eta \u001b[36m-:--:--\u001b[0m\r\u001b[2K   \u001b[91m━━━━━━━━━━━━━━━━━━━━\u001b[0m\u001b[91m╸\u001b[0m\u001b[90m━━━━━━━━━━━━━━━━━━━\u001b[0m \u001b[32m0.6/1.2 MB\u001b[0m \u001b[31m18.3 MB/s\u001b[0m eta \u001b[36m0:00:01\u001b[0m\r\u001b[2K   \u001b[91m━━━━━━━━━━━━━━━━━━━━━━━━━━━━━━━━━━━━━━━\u001b[0m\u001b[91m╸\u001b[0m \u001b[32m1.2/1.2 MB\u001b[0m \u001b[31m23.7 MB/s\u001b[0m eta \u001b[36m0:00:01\u001b[0m\r\u001b[2K   \u001b[90m━━━━━━━━━━━━━━━━━━━━━━━━━━━━━━━━━━━━━━━━\u001b[0m \u001b[32m1.2/1.2 MB\u001b[0m \u001b[31m16.6 MB/s\u001b[0m eta \u001b[36m0:00:00\u001b[0m\n",
            "\u001b[?25h\u001b[?25l   \u001b[90m━━━━━━━━━━━━━━━━━━━━━━━━━━━━━━━━━━━━━━━━\u001b[0m \u001b[32m0.0/232.1 kB\u001b[0m \u001b[31m?\u001b[0m eta \u001b[36m-:--:--\u001b[0m\r\u001b[2K   \u001b[90m━━━━━━━━━━━━━━━━━━━━━━━━━━━━━━━━━━━━━━━━\u001b[0m \u001b[32m232.1/232.1 kB\u001b[0m \u001b[31m14.1 MB/s\u001b[0m eta \u001b[36m0:00:00\u001b[0m\n",
            "\u001b[2K   \u001b[90m━━━━━━━━━━━━━━━━━━━━━━━━━━━━━━━━━━━━━━━━\u001b[0m \u001b[32m95.2/95.2 kB\u001b[0m \u001b[31m6.5 MB/s\u001b[0m eta \u001b[36m0:00:00\u001b[0m\n",
            "\u001b[2K   \u001b[90m━━━━━━━━━━━━━━━━━━━━━━━━━━━━━━━━━━━━━━━━\u001b[0m \u001b[32m217.1/217.1 kB\u001b[0m \u001b[31m12.8 MB/s\u001b[0m eta \u001b[36m0:00:00\u001b[0m\n",
            "\u001b[2K   \u001b[90m━━━━━━━━━━━━━━━━━━━━━━━━━━━━━━━━━━━━━━━━\u001b[0m \u001b[32m334.1/334.1 kB\u001b[0m \u001b[31m21.4 MB/s\u001b[0m eta \u001b[36m0:00:00\u001b[0m\n",
            "\u001b[2K   \u001b[90m━━━━━━━━━━━━━━━━━━━━━━━━━━━━━━━━━━━━━━━━\u001b[0m \u001b[32m125.1/125.1 kB\u001b[0m \u001b[31m10.2 MB/s\u001b[0m eta \u001b[36m0:00:00\u001b[0m\n",
            "\u001b[2K   \u001b[90m━━━━━━━━━━━━━━━━━━━━━━━━━━━━━━━━━━━━━━━━\u001b[0m \u001b[32m65.8/65.8 kB\u001b[0m \u001b[31m4.2 MB/s\u001b[0m eta \u001b[36m0:00:00\u001b[0m\n",
            "\u001b[2K   \u001b[90m━━━━━━━━━━━━━━━━━━━━━━━━━━━━━━━━━━━━━━━━\u001b[0m \u001b[32m119.0/119.0 kB\u001b[0m \u001b[31m7.4 MB/s\u001b[0m eta \u001b[36m0:00:00\u001b[0m\n",
            "\u001b[2K   \u001b[90m━━━━━━━━━━━━━━━━━━━━━━━━━━━━━━━━━━━━━━━━\u001b[0m \u001b[32m194.9/194.9 kB\u001b[0m \u001b[31m11.9 MB/s\u001b[0m eta \u001b[36m0:00:00\u001b[0m\n",
            "\u001b[2K   \u001b[90m━━━━━━━━━━━━━━━━━━━━━━━━━━━━━━━━━━━━━━━━\u001b[0m \u001b[32m62.5/62.5 kB\u001b[0m \u001b[31m3.8 MB/s\u001b[0m eta \u001b[36m0:00:00\u001b[0m\n",
            "\u001b[2K   \u001b[90m━━━━━━━━━━━━━━━━━━━━━━━━━━━━━━━━━━━━━━━━\u001b[0m \u001b[32m103.3/103.3 kB\u001b[0m \u001b[31m6.8 MB/s\u001b[0m eta \u001b[36m0:00:00\u001b[0m\n",
            "\u001b[2K   \u001b[90m━━━━━━━━━━━━━━━━━━━━━━━━━━━━━━━━━━━━━━━━\u001b[0m \u001b[32m44.4/44.4 kB\u001b[0m \u001b[31m2.9 MB/s\u001b[0m eta \u001b[36m0:00:00\u001b[0m\n",
            "\u001b[2K   \u001b[90m━━━━━━━━━━━━━━━━━━━━━━━━━━━━━━━━━━━━━━━━\u001b[0m \u001b[32m72.0/72.0 kB\u001b[0m \u001b[31m4.7 MB/s\u001b[0m eta \u001b[36m0:00:00\u001b[0m\n",
            "\u001b[?25h"
          ]
        }
      ]
    },
    {
      "cell_type": "code",
      "source": [
        "# Configura a API Key do Google Gemini\n",
        "\n",
        "import os\n",
        "from google.colab import userdata\n",
        "\n",
        "os.environ[\"GOOGLE_API_KEY\"] = userdata.get('GOOGLE_API_KEY')"
      ],
      "metadata": {
        "id": "NfCqHo1tLk8P"
      },
      "execution_count": 73,
      "outputs": []
    },
    {
      "cell_type": "code",
      "source": [
        "# Configura o cliente da SDK do Gemini\n",
        "\n",
        "from google import genai\n",
        "from google.genai import types # Necessário para tipos como Content e Part\n",
        "\n",
        "client = genai.Client()\n",
        "\n",
        "MODEL_ID = \"gemini-2.0-flash\"\n",
        "\n"
      ],
      "metadata": {
        "id": "bV4w0H5TLk5g"
      },
      "execution_count": 52,
      "outputs": []
    },
    {
      "cell_type": "code",
      "source": [
        "# Exemplo Básico de Chamada ao Gemini (Sem Ferramentas)\n",
        "from IPython.display import HTML, Markdown # Para exibir texto formatado\n",
        "\n",
        "# Perguntar pro modelo quando é a próxima imersão de IA ###############################################\n",
        "\n",
        "# Faz uma chamada simples ao modelo\n",
        "response = client.models.generate_content(\n",
        "    model=MODEL_ID, # Usando o MODEL_ID definido anteriormente\n",
        "    contents='Qual é a data da próxima Imersão IA com Google Gemini da Alura?' # Sua pergunta aqui\n",
        ")\n",
        "\n",
        "# Armazena a resposta do modelo na variável 'resposta'.\n",
        "# response.candidates[0].content é o objeto Content\n",
        "resposta_content = response.candidates[0].content\n",
        "\n",
        "# Para acessar o texto, precisamos iterar sobre as \"partes\" (parts) do objeto Content\n",
        "full_response_text = \"\" # Cria uma string vazia para armazenar o texto completo\n",
        "# Verifica se o objeto content_response tem o atributo 'parts' e se ele não está vazio\n",
        "if hasattr(resposta_content, 'parts') and resposta_content.parts:\n",
        "    for part in resposta_content.parts: # Itera sobre cada parte na lista de partes do Content\n",
        "        if hasattr(part, 'text') and part.text: # Verifica se a parte atual contém texto\n",
        "            full_response_text += part.text # Adiciona o texto da parte atual à string completa\n",
        "\n",
        "# Agora usamos a string 'full_response_text' que contém o texto completo da resposta\n",
        "display(Markdown(f\"Resposta:\\n {full_response_text}\"))\n"
      ],
      "metadata": {
        "id": "HwVP7Xi34Zuw",
        "colab": {
          "base_uri": "https://localhost:8080/",
          "height": 163
        },
        "outputId": "bc9a2058-eb6a-4503-e5fd-a7f003b55f06"
      },
      "execution_count": 53,
      "outputs": [
        {
          "output_type": "display_data",
          "data": {
            "text/plain": [
              "<IPython.core.display.Markdown object>"
            ],
            "text/markdown": "Resposta:\n A Alura não tem uma data fixa para a Imersão IA com Google Gemini. A melhor forma de saber quando a próxima edição será realizada é:\n\n*   **Acompanhar as redes sociais da Alura:** Fique de olho no Instagram, LinkedIn e outros canais da Alura, pois eles costumam anunciar novos eventos por lá.\n*   **Verificar a página de Imersões da Alura:** Acesse a página de Imersões no site da Alura e procure por informações sobre a Imersão IA com Google Gemini. Mesmo que não haja uma data definida, pode haver um formulário de interesse para você ser notificado quando a próxima edição for anunciada.\n*   **Assinar a newsletter da Alura:** Ao se inscrever na newsletter, você receberá novidades sobre os cursos, eventos e imersões da Alura diretamente no seu e-mail.\n\nVerifiquei o site da Alura e não encontrei nenhuma data específica para uma nova edição da Imersão IA com Google Gemini no momento."
          },
          "metadata": {}
        }
      ]
    },
    {
      "cell_type": "code",
      "source": [
        "# Configuração da Ferramenta de Busca (Usando a Ferramenta do ADK)\n",
        "\n",
        "# Importa a ferramenta de busca Google fornecida pelo ADK\n",
        "# Esta ferramenta já está configurada para ser usada com agentes do ADK.\n",
        "from google.adk.tools import google_search\n",
        "\n",
        "# A ferramenta google_search importada já é a instância da ferramenta pronta para usar.\n",
        "# Não precisamos definir a estrutura da função manualmente como fizemos antes.\n",
        "# search_tool = google_search # A variável search_tool agora aponta para a ferramenta do ADK\n",
        "\n",
        "# Nota: A ferramenta google_search do ADK pode ter requisitos adicionais de configuração\n",
        "# ou dependências (como a API do Google Search). Verifique a documentação do ADK\n",
        "# ou o material da aula para detalhes sobre a configuração específica da ferramenta de busca do ADK.\n",
        "# Para este exemplo, assumimos que a importação é suficiente para defini-la.\n",
        "\n",
        "# --- Exemplo de Uso da Ferramenta com o Modelo (Dentro do Contexto ADK) ---\n",
        "# Nota: Ferramentas definidas para o ADK são geralmente passadas para os Agentes do ADK,\n",
        "# e não diretamente para genai.GenerativeModel().generate_content().\n",
        "# O uso de ferramentas com generate_content() que vimos antes era a forma \"pura\" da biblioteca genai.\n",
        "# No contexto do ADK, você associa as ferramentas aos objetos Agent.\n",
        "\n",
        "# Portanto, esta célula define a ferramenta, mas a CHAMADA usando a ferramenta\n",
        "# acontecerá quando você configurar e rodar os Agentes do ADK nas células seguintes.\n",
        "# A chamada generate_content() abaixo é APENAS um exemplo de como seria, mas\n",
        "# no fluxo do ADK, o Runner do ADK gerencia a chamada da API com as ferramentas.\n",
        "\n",
        "# Este bloco try/except é apenas para demonstrar como a chamada seria,\n",
        "# mas no fluxo final do ADK, você não fará esta chamada diretamente aqui.\n",
        "try:\n",
        "    # Exemplo de como VOCÊ passaria a ferramenta para um modelo (fora do ADK Runner)\n",
        "    # model_instance = genai.GenerativeModel(MODEL_ID)\n",
        "    # response_with_tool = model_instance.generate_content(\n",
        "    #     contents='Quando é a próxima Imersão IA com Google Gemini da Alura?',\n",
        "    #     tools=[google_search] # Passa a ferramenta do ADK aqui\n",
        "    # )\n",
        "    # print(\"Exemplo de chamada com ferramenta (fora do fluxo ADK):\")\n",
        "    # print(response_with_tool.candidates[0].content.text) # Ou FunctionCall\n",
        "\n",
        "    print(\"Ferramenta 'google_search' do ADK importada com sucesso.\")\n",
        "\n",
        "except Exception as e:\n",
        "    print(f\"Ocorreu um erro ao tentar usar a ferramenta do ADK: {e}\")\n",
        "\n",
        "# A execução real da busca usando a ferramenta google_search do ADK ocorrerá\n",
        "# quando um Agente do ADK (definido nas células futuras) decidir usar esta ferramenta\n",
        "# durante a execução gerenciada pelo Runner do ADK.\n"
      ],
      "metadata": {
        "id": "yXaZd7iZ4ftw",
        "colab": {
          "base_uri": "https://localhost:8080/"
        },
        "outputId": "bd731d20-2055-4f92-ca30-f5c0fb804291"
      },
      "execution_count": 54,
      "outputs": [
        {
          "output_type": "stream",
          "name": "stdout",
          "text": [
            "Ferramenta 'google_search' do ADK importada com sucesso.\n"
          ]
        }
      ]
    },
    {
      "cell_type": "code",
      "source": [
        "# Exibir Metadados de Busca (Pode não funcionar neste fluxo ADK)\n",
        "\n",
        "# Nota: Esta célula tenta exibir metadados da resposta da Célula 5.\n",
        "# No fluxo do ADK, a Célula 5 apenas define a ferramenta. A chamada real\n",
        "# com a ferramenta acontece quando um Agente do ADK a utiliza.\n",
        "# Portanto, a variável 'response' desta célula pode não conter metadados de busca\n",
        "# da forma esperada neste ponto do notebook.\n",
        "\n",
        "# O código abaixo verifica se grounding_metadata existe antes de tentar acessá-lo.\n",
        "# Isso evita o AttributeError, mas a informação pode não estar presente.\n",
        "\n",
        "# Verifica se a variável 'response' da célula anterior existe e tem candidatos/metadados\n",
        "if 'response' in locals() and response.candidates and response.candidates[0].grounding_metadata:\n",
        "    grounding_metadata = response.candidates[0].grounding_metadata\n",
        "\n",
        "    print(\"Tentando exibir metadados de busca:\")\n",
        "\n",
        "    if hasattr(grounding_metadata, 'web_search_queries') and grounding_metadata.web_search_queries:\n",
        "        print(f\"Busca realizada: {grounding_metadata.web_search_queries}\")\n",
        "    else:\n",
        "        print(\"O modelo não forneceu a query de busca web utilizada.\")\n",
        "\n",
        "    if hasattr(grounding_metadata, 'grounding_chunks') and grounding_metadata.grounding_chunks:\n",
        "        web_chunks = [chunk for chunk in grounding_metadata.grounding_chunks if hasattr(chunk, 'web') and chunk.web]\n",
        "        if web_chunks:\n",
        "            page_titles = [chunk.web.title for chunk in web_chunks if hasattr(chunk.web, 'title')]\n",
        "            if page_titles:\n",
        "                print(f\"Páginas utilizadas na resposta: {', '.join(page_titles)}\")\n",
        "            else:\n",
        "                print(\"O modelo utilizou páginas web, mas os títulos não estão disponíveis.\")\n",
        "        else:\n",
        "            print(\"O modelo utilizou informações de busca, mas detalhes das páginas web não estão disponíveis.\")\n",
        "    else:\n",
        "        print(\"O modelo não forneceu metadados detalhados sobre as fontes utilizadas.\")\n",
        "\n",
        "    if hasattr(grounding_metadata, 'search_entry_point') and hasattr(grounding_metadata.search_entry_point, 'rendered_content'):\n",
        "        from IPython.display import display, HTML\n",
        "        display(HTML(grounding_metadata.search_entry_point.rendered_content))\n",
        "    else:\n",
        "        print(\"Informações visuais sobre o ponto de entrada da busca não estão disponíveis.\")\n",
        "\n",
        "else:\n",
        "    # Mensagem caso o modelo não tenha utilizado a busca ou não tenha fornecido metadados NESTA CÉLULA.\n",
        "    print(\"Metadados de busca não disponíveis na resposta da Célula 5 (esperado no fluxo ADK).\")\n",
        "\n",
        "print() # Adiciona uma linha em branco\n"
      ],
      "metadata": {
        "id": "xHSNlTd84heJ",
        "colab": {
          "base_uri": "https://localhost:8080/"
        },
        "outputId": "ad2c983c-87f7-4a84-b4d3-b8becffbf909"
      },
      "execution_count": 55,
      "outputs": [
        {
          "output_type": "stream",
          "name": "stdout",
          "text": [
            "Metadados de busca não disponíveis na resposta da Célula 5 (esperado no fluxo ADK).\n",
            "\n"
          ]
        }
      ]
    },
    {
      "cell_type": "code",
      "execution_count": 58,
      "metadata": {
        "id": "aePV2bdfDeoW"
      },
      "outputs": [],
      "source": [
        "# Importações e Funções Auxiliares do ADK\n",
        "# Importa classes e ferramentas do Agent Development Kit (ADK)\n",
        "from google.adk.agents import Agent # Classe base para definir agentes\n",
        "from google.adk.runners import Runner # Para executar os agentes\n",
        "from google.adk.sessions import InMemorySessionService # Serviço de sessão em memória\n",
        "from google.adk.tools import google_search # Ferramenta de busca Google do ADK\n",
        "\n",
        "# Importa outros módulos necessários\n",
        "from google.genai import types # Para criar conteúdos (Content e Part)\n",
        "from datetime import date # Para trabalhar com datas\n",
        "import textwrap # Para formatar melhor a saída de texto\n",
        "from IPython.display import display, Markdown # Para exibir texto formatado no Colab\n",
        "import requests # Para fazer requisições HTTP (pode ser usado em alguma ferramenta customizada)\n",
        "import warnings # Para gerenciar avisos\n",
        "\n",
        "# Ignora avisos (pode ser útil durante o desenvolvimento)\n",
        "warnings.filterwarnings(\"ignore\")\n",
        "\n",
        "# Função auxiliar que envia uma mensagem para um agente via Runner e retorna a resposta final\n",
        "# Esta função encapsula a lógica de rodar um agente do ADK.\n",
        "def call_agent(agent: Agent, message_text: str) -> str:\n",
        "    # Cria um serviço de sessão em memória\n",
        "    session_service = InMemorySessionService()\n",
        "\n",
        "    # Cria uma nova sessão (você pode personalizar os IDs conforme necessário)\n",
        "    session = session_service.create_session(app_name=agent.name,\n",
        "                                             user_id=\"user1\", session_id=\"session1\")\n",
        "\n",
        "    # Cria um Runner para o agente\n",
        "    runner = Runner(agent=agent, app_name=agent.name, session_service=session_service)\n",
        "\n",
        "    # Cria o conteúdo da mensagem de entrada para o agente\n",
        "    content = types.Content(role=\"user\", parts=[types.Part(text=message_text)])\n",
        "\n",
        "    final_response = \"\" # Variável para acumular a resposta final\n",
        "\n",
        "    # Itera assincronamente pelos eventos retornados durante a execução do agente\n",
        "    # Nota: Em um ambiente síncrono como um notebook, a execução parecerá síncrona.\n",
        "    for event in runner.run(user_id=\"user1\", session_id=\"session1\", new_message=content):\n",
        "        # Verifica se o evento é a resposta final do agente\n",
        "        if event.is_final_response():\n",
        "            # Se for a resposta final, itera sobre as partes do conteúdo\n",
        "            if hasattr(event, 'content') and hasattr(event.content, 'parts'):\n",
        "                 for part in event.content.parts:\n",
        "                      if hasattr(part, 'text') and part.text is not None:\n",
        "                           final_response += part.text\n",
        "                      # Adiciona uma quebra de linha se não for a última parte e tiver texto\n",
        "                      # if hasattr(part, 'text') and part.text is not None and part != event.content.parts[-1]:\n",
        "                      #    final_response += \"\\n\"\n",
        "            # Adiciona uma quebra de linha no final da resposta do agente\n",
        "            final_response += \"\\n\"\n",
        "\n",
        "\n",
        "    return final_response.strip() # Retorna a resposta final (removendo espaços em branco extras no início/fim)\n",
        "\n",
        "# Função auxiliar para exibir texto formatado em Markdown no Colab\n",
        "# Esta função usa textwrap para identar o texto e Markdown para formatar.\n",
        "def to_markdown(text):\n",
        "    # Substitui '*' por '.' (parece ser uma formatação específica do código base)\n",
        "    # text = text.replace('*', '.') # <--- Removido, pois parece ser um erro de cópia/colagem\n",
        "\n",
        "    # Identifica o texto com '>' para simular uma citação ou resposta do agente\n",
        "    indented_text = textwrap.indent(text, '> ', predicate=lambda line: True) # Indenta cada linha\n",
        "\n",
        "    # Retorna o texto formatado como Markdown\n",
        "    return Markdown(indented_text)\n"
      ]
    },
    {
      "cell_type": "code",
      "source": [
        "# Buscador de Informações/Dados Relevantes\n",
        "\n",
        "# Define o Agente Buscador usando a classe Agent do ADK\n",
        "buscador_dados = Agent(\n",
        "    name=\"agente_buscador_dados\", # Nome único para o agente\n",
        "    model=MODEL_ID, # Usa o modelo Gemini definido na Célula 3\n",
        "    # Instruções para o Agente Buscador de Dados\n",
        "    instruction=\"\"\"\n",
        "    Você é um Agente Buscador de Dados especializado em identificar quais tipos de dados e informações\n",
        "    são relevantes para investigar um problema de negócio específico.\n",
        "    Sua tarefa é analisar a descrição do problema fornecida pelo usuário e listar os tipos de dados,\n",
        "    métricas ou informações que seriam úteis para começar a análise.\n",
        "    Pense em dados de vendas, marketing, clientes, operações, mercado, etc., relevantes para o contexto.\n",
        "    Se necessário, use a ferramenta de busca para encontrar exemplos gerais de dados relacionados ao tópico.\n",
        "    Sua resposta deve ser uma lista clara dos tipos de dados/informações relevantes.\n",
        "    \"\"\",\n",
        "    description=\"Agente que identifica dados e informações relevantes para problemas de negócio.\",\n",
        "    tools=[google_search] # Associa a ferramenta de busca Google do ADK a este agente\n",
        ")\n",
        "\n",
        "# Nota: A execução deste agente acontecerá mais tarde no fluxo principal,\n",
        "# quando você chamar call_agent(buscador_dados, ...)\n"
      ],
      "metadata": {
        "id": "_xP4lWhsS5ko"
      },
      "execution_count": 60,
      "outputs": []
    },
    {
      "cell_type": "code",
      "source": [
        "# Agente 2 - Planejador de Análise\n",
        "\n",
        "# Define a função que executa o Agente Planejador de Análise\n",
        "# Ele recebe o problema original e a lista de dados relevantes do Agente Buscador.\n",
        "def agente_planejador_analise(problema_negocio: str, dados_relevantes: str) -> str:\n",
        "    # Define o Agente Planejador de Análise usando a classe Agent do ADK\n",
        "    planejador_analise = Agent(\n",
        "        name=\"agente_planejador_analise\", # Nome único para o agente\n",
        "        model=MODEL_ID, # Usa o modelo Gemini definido na Célula 3\n",
        "        # Instruções para o Agente Planejador de Análise\n",
        "        instruction=f\"\"\"\n",
        "        Você é um Agente Planejador de Análise de Dados.\n",
        "        Você recebeu um problema de negócio e uma lista de tipos de dados relevantes.\n",
        "        Sua tarefa é criar um plano passo a passo para analisar esses dados e investigar o problema.\n",
        "        O plano deve ser lógico, claro e focado em como usar os dados para encontrar a causa ou solução do problema.\n",
        "        Liste as etapas de análise de forma numerada ou com marcadores.\n",
        "        Problema de Negócio: {problema_negocio}\n",
        "        Dados Relevantes Identificados: {dados_relevantes}\n",
        "        \"\"\",\n",
        "        description=\"Agente que cria planos de análise de dados para problemas de negócio.\",\n",
        "        tools=[] # Este agente talvez não precise de ferramentas externas, foca no raciocínio lógico\n",
        "        # Se o plano precisar de exemplos de técnicas de análise, poderia associar a google_search\n",
        "        # tools=[google_search] # Opcional: se precisar buscar exemplos de técnicas\n",
        "    )\n",
        "\n",
        "    # Prepara a entrada para o Agente Planejador\n",
        "    entrada_planejador = f\"Problema: {problema_negocio}\\nDados Relevantes: {dados_relevantes}\"\n",
        "\n",
        "    # Executa o agente usando a função auxiliar call_agent da Célula 8\n",
        "    plano_analise = call_agent(planejador_analise, entrada_planejador)\n",
        "\n",
        "    return plano_analise # Retorna o plano de análise gerado\n"
      ],
      "metadata": {
        "id": "8dosiodaxfFR"
      },
      "execution_count": 63,
      "outputs": []
    },
    {
      "cell_type": "code",
      "source": [
        "# Agente 3 - Gerador de Código/Insights\n",
        "\n",
        "# Define a função que executa o Agente Gerador de Código/Insights\n",
        "# Ele recebe uma etapa específica do plano e (opcionalmente) dados/resultados.\n",
        "def agente_gerador_codigo_insights(etapa_plano: str, dados_ou_resultados: str = \"\") -> str:\n",
        "    # Define o Agente Gerador usando a classe Agent do ADK\n",
        "    gerador_analise = Agent(\n",
        "        name=\"agente_gerador_analise\",\n",
        "        model=MODEL_ID,\n",
        "        # Instruções para o Agente Gerador de Código/Insights\n",
        "        instruction=f\"\"\"\n",
        "        Você é um Agente Gerador de Código e Insights para Análise de Dados.\n",
        "        Sua tarefa é ajudar a executar uma etapa específica de um plano de análise.\n",
        "        Com base na descrição da etapa e nos dados/resultados fornecidos (se houver),\n",
        "        você deve:\n",
        "        1. Se a etapa for sobre processamento ou visualização, **gerar um snippet de código** (preferencialmente Python com Pandas/Matplotlib ou SQL) relevante para a tarefa. O código deve ser claro e com comentários.\n",
        "        2. Se a etapa for sobre interpretação, **oferecer insights** sobre os resultados fornecidos.\n",
        "        3. Se precisar de exemplos de código ou explicações, use a ferramenta de busca.\n",
        "        Sua resposta deve conter o código formatado em um bloco de código ou a interpretação clara.\n",
        "\n",
        "        Etapa do Plano: {etapa_plano}\n",
        "        Dados ou Resultados Fornecidos: {dados_ou_resultados}\n",
        "        \"\"\",\n",
        "        description=\"Agente que gera código ou insights para etapas de análise de dados.\",\n",
        "        tools=[google_search] # Associa a ferramenta de busca Google do ADK a este agente (útil para buscar exemplos de código)\n",
        "    )\n",
        "\n",
        "    # Prepara a entrada para o Agente Gerador\n",
        "    entrada_gerador = f\"Etapa do Plano: {etapa_plano}\\nDados/Resultados: {dados_ou_resultados}\"\n",
        "\n",
        "    codigo_ou_insight = call_agent(gerador_analise, entrada_gerador)\n",
        "\n",
        "    return codigo_ou_insight # Retorna o código gerado ou o insight\n"
      ],
      "metadata": {
        "id": "o8bqIfi_DyH8"
      },
      "execution_count": 72,
      "outputs": []
    },
    {
      "cell_type": "code",
      "source": [
        "# Agente 4 - Revisor e Formatador de Resposta Final\n",
        "\n",
        "# Define a função que executa o Agente Revisor e Formatador\n",
        "# Ele recebe o resultado do Agente Gerador (código ou insight).\n",
        "def agente_revisor_formatador(resultado_gerador: str) -> str:\n",
        "    # Define o Agente Revisor/Formatador usando a classe Agent do ADK\n",
        "    revisor_formatador = Agent(\n",
        "        name=\"agente_revisor_formatador\",\n",
        "        model=MODEL_ID,\n",
        "        instruction=f\"\"\"\n",
        "        Você é um Agente Revisor e Formatador de Respostas para Análise de Dados.\n",
        "        Sua tarefa é pegar o resultado de uma análise (código, insight, explicação)\n",
        "        e formatá-lo de forma clara, profissional e fácil de entender para um público de negócios ou técnico.\n",
        "        Se for código, garanta que esteja em um bloco de código Markdown.\n",
        "        Se for um insight, explique-o de forma concisa.\n",
        "        Adicione um toque amigável e útil à resposta final.\n",
        "        Resultado a ser revisado e formatado: {resultado_gerador}\n",
        "        \"\"\",\n",
        "        description=\"Agente que revisa e formata resultados de análise de dados.\",\n",
        "        tools=[] # Este agente foca na formatação, provavelmente não precisa de ferramentas externas\n",
        "    )\n",
        "\n",
        "    # Prepara a entrada para o Agente Revisor\n",
        "    entrada_revisor = resultado_gerador\n",
        "\n",
        "    resposta_final_formatada = call_agent(revisor_formatador, entrada_revisor)\n",
        "\n",
        "    return resposta_final_formatada # Retorna a resposta final formatada\n"
      ],
      "metadata": {
        "id": "y3VO1uo5_ghO"
      },
      "execution_count": 65,
      "outputs": []
    },
    {
      "cell_type": "code",
      "source": [
        "# Agente 3 - Gerador de Código/Insights\n",
        "\n",
        "# Define a função que executa o Agente Gerador de Código/Insights\n",
        "# Ele recebe uma etapa específica do plano e (opcionalmente) dados/resultados.\n",
        "def agente_gerador_codigo_insights(etapa_plano: str, dados_ou_resultados: str = \"\") -> str:\n",
        "    # Define o Agente Gerador usando a classe Agent do ADK\n",
        "    gerador_analise = Agent(\n",
        "        name=\"agente_gerador_analise\", # Nome único para o agente\n",
        "        model=MODEL_ID, # Usa o modelo Gemini definido na Célula 3\n",
        "        # Instruções para o Agente Gerador de Código/Insights\n",
        "        instruction=f\"\"\"\n",
        "        Você é um Agente Gerador de Código e Insights para Análise de Dados.\n",
        "        Sua tarefa é ajudar a executar uma etapa específica de um plano de análise.\n",
        "        Com base na descrição da etapa e nos dados/resultados fornecidos (se houver),\n",
        "        você deve:\n",
        "        1. Se a etapa for sobre processamento ou visualização, **gerar um snippet de código** (preferencialmente Python com Pandas/Matplotlib ou SQL) relevante para a tarefa. O código deve ser claro e com comentários.\n",
        "        2. Se a etapa for sobre interpretação, **oferecer insights** sobre os resultados fornecidos.\n",
        "        3. Se precisar de exemplos de código ou explicações, use a ferramenta de busca.\n",
        "        Sua resposta deve conter o código formatado em um bloco de código ou a interpretação clara.\n",
        "\n",
        "        Etapa do Plano: {etapa_plano}\n",
        "        Dados ou Resultados Fornecidos: {dados_ou_resultados}\n",
        "        \"\"\",\n",
        "        description=\"Agente que gera código ou insights para etapas de análise de dados.\",\n",
        "        tools=[google_search] # Associa a ferramenta de busca Google do ADK a este agente (útil para buscar exemplos de código)\n",
        "    )\n",
        "\n",
        "    # Prepara a entrada para o Agente Gerador\n",
        "    entrada_gerador = f\"Etapa do Plano: {etapa_plano}\\nDados/Resultados: {dados_ou_resultados}\"\n",
        "\n",
        "    # Executa o agente usando a função auxiliar call_agent da Célula 8\n",
        "    codigo_ou_insight = call_agent(gerador_analise, entrada_gerador)\n",
        "\n",
        "    return codigo_ou_insight # Retorna o código gerado ou o insight\n"
      ],
      "metadata": {
        "id": "uOqlg2TRLVh1"
      },
      "execution_count": 62,
      "outputs": []
    },
    {
      "cell_type": "markdown",
      "source": [
        "python"
      ],
      "metadata": {
        "id": "5XwlkevYLkXo"
      }
    },
    {
      "cell_type": "code",
      "source": [
        "# CÓDIGO DE ANÁLISE DE DADOS\n",
        "# Este código demonstra como realizar análises básicas em um DataFrame Pandas.\n",
        "\n",
        "# Importa a biblioteca pandas, que é essencial para trabalhar com DataFrames.\n",
        "import pandas as pd\n",
        "\n",
        "# --- Carregar seus dados ---\n",
        "# Você precisa carregar seus dados de vendas em um DataFrame Pandas chamado 'df_vendas'.\n",
        "# Substitua 'seu_arquivo_de_vendas.csv' pelo caminho real do seu arquivo de dados.\n",
        "# Se seus dados estiverem em outro formato (Excel, banco de dados, etc.), use a função de leitura apropriada do pandas (ex: pd.read_excel(), pd.read_sql()).\n",
        "try:\n",
        "    # Exemplo: Carregando dados de um arquivo CSV\n",
        "    df_vendas = pd.read_csv('seu_arquivo_de_vendas.csv')\n",
        "\n",
        "    # Opcional: Exibir as primeiras linhas do DataFrame para verificar se carregou corretamente\n",
        "    print(\"Primeiras linhas do DataFrame df_vendas:\")\n",
        "    display(df_vendas.head()) # Use display se estiver no Colab/Jupyter\n",
        "\n",
        "    # --- Análises de Dados ---\n",
        "    # Agora que df_vendas está definido, podemos realizar as análises.\n",
        "\n",
        "    # Analisar vendas totais por região\n",
        "    # Agrupa os dados por 'regiao' e soma os valores de 'valor_venda', ordenando do maior para o menor.\n",
        "    vendas_por_regiao = df_vendas.groupby('regiao')['valor_venda'].sum().sort_values(ascending=False)\n",
        "\n",
        "    # Exibe o resultado da análise de vendas por região.\n",
        "    print(\"\\nVendas por Região:\")\n",
        "    display(vendas_por_regiao) # Use display se estiver no Colab/Jupyter\n",
        "\n",
        "    # Analisar tendência de vendas ao longo do tempo\n",
        "    # Converte a coluna 'data' para o formato datetime e extrai o período mensal.\n",
        "    # Assume que existe uma coluna chamada 'data' no seu DataFrame.\n",
        "    df_vendas['mes'] = pd.to_datetime(df_vendas['data']).dt.to_period('M')\n",
        "\n",
        "    # Agrupa os dados por 'mes' e soma os valores de 'valor_venda'.\n",
        "    vendas_por_mes = df_vendas.groupby('mes')['valor_venda'].sum()\n",
        "    # Para plotar a tendência, você pode usar: vendas_por_mes.plot() # Exemplo de visualização (requer matplotlib)\n",
        "\n",
        "    # Exibe o resultado da análise de vendas por mês.\n",
        "    print(\"\\nVendas Totais por Mês:\")\n",
        "    display(vendas_por_mes) # Use display se estiver no Colab/Jupyter\n",
        "\n",
        "except FileNotFoundError:\n",
        "    print(\"\\nErro: Arquivo 'seu_arquivo_de_vendas.csv' não encontrado.\")\n",
        "    print(\"Por favor, substitua pelo caminho correto do seu arquivo de dados ou carregue os dados de outra forma.\")\n",
        "except KeyError as e:\n",
        "    print(f\"\\nErro: Coluna {e} não encontrada no DataFrame.\")\n",
        "    print(\"Verifique se as colunas 'regiao', 'valor_venda' e 'data' existem no seu arquivo de dados e estão escritas corretamente.\")\n",
        "except Exception as e:\n",
        "    print(f\"\\nOcorreu um erro ao processar os dados: {e}\")\n",
        "\n",
        "\n",
        "# Nota: Este é apenas um exemplo de código de análise.\n",
        "# Seus agentes (especialmente o Agente Gerador) poderiam ajudar a criar ou explicar códigos como este.\n",
        "# Para usar este código, certifique-se de ter a biblioteca pandas instalada:\n",
        "# !pip install pandas\n",
        "# E, se quiser plotar, instale matplotlib:\n",
        "# !pip install matplotlib\n",
        "\n"
      ],
      "metadata": {
        "id": "nuYJNR-RLZpj",
        "colab": {
          "base_uri": "https://localhost:8080/"
        },
        "outputId": "ba9dfbe1-afea-4f13-cb28-bf3402f26d1e"
      },
      "execution_count": 71,
      "outputs": [
        {
          "output_type": "stream",
          "name": "stdout",
          "text": [
            "\n",
            "Erro: Arquivo 'seu_arquivo_de_vendas.csv' não encontrado.\n",
            "Por favor, substitua pelo caminho correto do seu arquivo de dados ou carregue os dados de outra forma.\n"
          ]
        }
      ]
    },
    {
      "cell_type": "code",
      "source": [
        "# Fluxo Principal do Sistema de Agentes de Análise de Dados\n",
        "\n",
        "from datetime import date # Importa date para obter a data atual\n",
        "\n",
        "# Opcional: Exibir a data atual (mantido do código original)\n",
        "data_de_hoje = date.today().strftime(\"%d/%m/%Y\")\n",
        "print(f\"Data de hoje: {data_de_hoje}\")\n",
        "\n",
        "print(\"📊 Iniciando o Sistema de Agentes para Análise de Dados em Empresas 📈\")\n",
        "print(\"Olá! Sou seu assistente de IA para ajudar com análises de dados.\")\n",
        "\n",
        "# --- Obter o Problema de Negócio do Usuário ---\n",
        "problema_negocio = input(\"\\n❓ Por favor, descreva o PROBLEMA DE NEGÓCIO ou a pergunta que você quer investigar com dados: \")\n",
        "\n",
        "print(\"\\n🧠 Analisando seu problema e buscando dados relevantes...\")\n",
        "\n",
        "# --- Etapa 1: Chamar o Agente Buscador de Dados ---\n",
        "# O Agente Buscador identifica quais tipos de dados são relevantes para o problema.\n",
        "dados_relevantes = call_agent(buscador_dados, problema_negocio)\n",
        "\n",
        "print(\"\\n✅ Tipos de dados relevantes identificados:\")\n",
        "display(to_markdown(dados_relevantes)) # Exibe a lista de dados relevantes formatada\n",
        "\n",
        "print(\"\\n🗺️ Gerando um plano de análise com base nos dados identificados...\")\n",
        "\n",
        "# --- Etapa 2: Chamar o Agente Planejador de Análise ---\n",
        "# O Agente Planejador cria um plano passo a passo.\n",
        "plano_analise = agente_planejador_analise(problema_negocio, dados_relevantes)\n",
        "\n",
        "print(\"\\n✅ Plano de Análise Sugerido:\")\n",
        "display(to_markdown(plano_analise)) # Exibe o plano de análise formatado\n",
        "\n",
        "# --- Etapa 3: Loop de Interação com o Usuário ---\n",
        "# Permite que o usuário escolha uma etapa do plano para detalhar,\n",
        "# forneça dados/resultados, ou saia.\n",
        "while True:\n",
        "    print(\"\\n--- Próximo Passo ---\")\n",
        "    acao_usuario = input(\n",
        "        \"O que você quer fazer? (Digite o número da etapa do plano para detalhar, 'dados' para fornecer resultados, ou 'sair' para terminar): \"\n",
        "    ).lower().strip()\n",
        "\n",
        "    if acao_usuario == 'sair':\n",
        "        print(\"\\n👋 Obrigado por usar o assistente de análise de dados! Até a próxima!\")\n",
        "        break # Sai do loop\n",
        "\n",
        "    elif acao_usuario.isdigit():\n",
        "        # O usuário digitou um número, assume que é o número da etapa do plano.\n",
        "        # Nota: Este é um exemplo simplificado. Em um sistema real, você precisaria\n",
        "        # parsear o plano_analise para identificar as etapas corretamente.\n",
        "        # Aqui, apenas usamos o número como referência para o Agente Gerador.\n",
        "        numero_etapa = int(acao_usuario)\n",
        "        etapa_escolhida_descricao = f\"Etapa {numero_etapa} do plano: {plano_analise.splitlines()[numero_etapa-1] if numero_etapa <= len(plano_analise.splitlines()) else 'Etapa não encontrada'}\" # Tenta pegar a descrição da etapa\n",
        "\n",
        "        print(f\"\\n✍️ Detalhando a Etapa {numero_etapa}...\")\n",
        "\n",
        "        # --- Etapa 4: Chamar o Agente Gerador de Código/Insights ---\n",
        "        # Pede ao usuário para fornecer dados/resultados para esta etapa (opcional).\n",
        "        dados_resultados_etapa = input(f\"Tem dados ou resultados específicos para a Etapa {numero_etapa}? (Cole aqui ou deixe em branco): \").strip()\n",
        "\n",
        "        resultado_gerador = agente_gerador_codigo_insights(etapa_escolhida_descricao, dados_resultados_etapa)\n",
        "\n",
        "        print(\"\\n✨ Revisando e formatando a resposta...\")\n",
        "\n",
        "        # --- Etapa 5: Chamar o Agente Revisor e Formatador ---\n",
        "        resposta_final = agente_revisor_formatador(resultado_gerador)\n",
        "\n",
        "        print(\"\\n✅ Resposta Final:\")\n",
        "        display(to_markdown(resposta_final)) # Exibe a resposta final formatada\n",
        "\n",
        "    elif acao_usuario == 'dados':\n",
        "        # O usuário quer fornecer dados ou resultados gerais.\n",
        "        dados_gerais = input(\"\\nPor favor, cole os dados ou resultados que você quer que eu interprete: \").strip()\n",
        "        if dados_gerais:\n",
        "            print(\"\\n🧠 Interpretando os dados/resultados fornecidos...\")\n",
        "            # Podemos chamar diretamente o Agente Gerador ou Revisor com os dados gerais\n",
        "            # para obter uma interpretação ou resumo. Vamos chamar o Gerador para insights.\n",
        "            resultado_gerador_dados = agente_gerador_codigo_insights(\"Interprete os dados/resultados fornecidos.\", dados_gerais)\n",
        "\n",
        "            print(\"\\n✨ Revisando e formatando a interpretação...\")\n",
        "            resposta_final_dados = agente_revisor_formatador(resultado_gerador_dados)\n",
        "\n",
        "            print(\"\\n✅ Interpretação:\")\n",
        "            display(to_markdown(resposta_final_dados))\n",
        "        else:\n",
        "            print(\"Nenhum dado fornecido.\")\n",
        "\n",
        "    else:\n",
        "        print(\"\\nComando inválido. Por favor, digite o número da etapa, 'dados', ou 'sair'.\")\n",
        "\n"
      ],
      "metadata": {
        "id": "_aTb1SdkLeT6",
        "colab": {
          "base_uri": "https://localhost:8080/",
          "height": 1000
        },
        "outputId": "1a570a56-9c99-4856-b109-fc06f6ed724b"
      },
      "execution_count": 70,
      "outputs": [
        {
          "output_type": "stream",
          "name": "stdout",
          "text": [
            "Data de hoje: 17/05/2025\n",
            "📊 Iniciando o Sistema de Agentes para Análise de Dados em Empresas 📈\n",
            "Olá! Sou seu assistente de IA para ajudar com análises de dados.\n",
            "\n",
            "❓ Por favor, descreva o PROBLEMA DE NEGÓCIO ou a pergunta que você quer investigar com dados: fluxo de vendas caiu muito no ultimo mes\n",
            "\n",
            "🧠 Analisando seu problema e buscando dados relevantes...\n",
            "\n",
            "✅ Tipos de dados relevantes identificados:\n"
          ]
        },
        {
          "output_type": "display_data",
          "data": {
            "text/plain": [
              "<IPython.core.display.Markdown object>"
            ],
            "text/markdown": "> Para investigar a queda no fluxo de vendas do último mês, os seguintes tipos de dados e informações seriam relevantes:\n> \n> 1.  **Dados de Vendas:**\n>     *   Vendas totais por dia, semana e mês.\n>     *   Vendas por produto ou categoria de produto.\n>     *   Vendas por região geográfica ou canal de vendas (online, loja física, etc.).\n>     *   Número de transações e valor médio das transações.\n>     *   Taxa de conversão de leads em vendas.\n> \n> 2.  **Dados de Marketing:**\n>     *   Gastos com marketing por canal (anúncios online, email marketing, redes sociais, etc.).\n>     *   Número de leads gerados por cada canal de marketing.\n>     *   Taxas de cliques (CTR) e taxas de conversão de anúncios.\n>     *   Dados demográficos e comportamentais dos clientes alcançados pelas campanhas de marketing.\n> \n> 3.  **Dados de Clientes:**\n>     *   Número de novos clientes adquiridos no último mês.\n>     *   Taxa de retenção de clientes (quantos clientes continuam comprando).\n>     *   Dados demográficos e de perfil dos clientes (idade, sexo, localização, interesses, etc.).\n>     *   Feedback dos clientes sobre produtos, serviços e atendimento (pesquisas de satisfação, comentários em redes sociais, etc.).\n> \n> 4.  **Dados de Operações:**\n>     *   Níveis de estoque de produtos.\n>     *   Tempos de entrega e taxas de devolução de produtos.\n>     *   Custos de produção e distribuição.\n>     *   Disponibilidade de pessoal (vendedores, atendentes, etc.).\n> \n> 5.  **Dados de Mercado:**\n>     *   Tendências de mercado e sazonalidade de vendas.\n>     *   Ações da concorrência (lançamentos de produtos, promoções, etc.).\n>     *   Indicadores econômicos relevantes (taxa de juros, inflação, etc.).\n> \n> 6.  **Dados de Canais de Venda:**\n>     *   Vendas por canal (e-commerce, loja física, televendas, etc.).\n>     *   Desempenho de cada canal em termos de receita, custo e satisfação do cliente.\n>     *   Taxas de abandono de carrinho em e-commerce.\n> \n> Para auxiliar na identificação de dados relevantes, realizei uma busca geral sobre dados de vendas e marketing:\n> As buscas na internet confirmam a importância de analisar dados de vendas para identificar tendências, segmentar clientes, avaliar produtos e melhorar a experiência do cliente. Métricas como volume de vendas, taxas de conversão, ticket médio e Lifetime Value (LTV) são cruciais para avaliar o desempenho comercial. A análise de dados também permite otimizar campanhas de marketing, prever tendências e demandas futuras e melhorar a eficiência da equipe de vendas."
          },
          "metadata": {}
        },
        {
          "output_type": "stream",
          "name": "stdout",
          "text": [
            "\n",
            "🗺️ Gerando um plano de análise com base nos dados identificados...\n",
            "\n",
            "✅ Plano de Análise Sugerido:\n"
          ]
        },
        {
          "output_type": "display_data",
          "data": {
            "text/plain": [
              "<IPython.core.display.Markdown object>"
            ],
            "text/markdown": "> Plano de Análise para Queda no Fluxo de Vendas:\n> \n> 1.  **Análise Descritiva da Queda nas Vendas:**\n>     *   Calcular a porcentagem exata da queda nas vendas no último mês em comparação com os meses anteriores (pelo menos 3 meses).\n>     *   Visualizar a tendência de vendas ao longo do tempo (gráfico de linhas) para identificar o momento exato em que a queda começou.\n>     *   Segmentar a queda por produto, categoria, região e canal de vendas para identificar onde a queda é mais acentuada.\n> \n> 2.  **Investigação dos Dados de Marketing:**\n>     *   Analisar o desempenho das campanhas de marketing no último mês em comparação com os meses anteriores.\n>     *   Verificar se houve alguma mudança significativa nos gastos com marketing, canais utilizados ou público-alvo.\n>     *   Analisar as taxas de cliques (CTR) e taxas de conversão de anúncios para identificar possíveis problemas na eficácia das campanhas.\n>     *   Comparar o número de leads gerados por cada canal de marketing com os meses anteriores para identificar possíveis gargalos na geração de leads.\n> \n> 3.  **Análise do Comportamento do Cliente:**\n>     *   Analisar o número de novos clientes adquiridos no último mês em comparação com os meses anteriores.\n>     *   Calcular a taxa de retenção de clientes para verificar se houve perda de clientes existentes.\n>     *   Analisar o feedback dos clientes sobre produtos, serviços e atendimento para identificar possíveis problemas de satisfação.\n>     *   Analisar dados demográficos e de perfil dos clientes para identificar possíveis mudanças no público-alvo.\n> \n> 4.  **Verificação de Problemas Operacionais:**\n>     *   Verificar se houve problemas com os níveis de estoque de produtos que possam ter afetado as vendas.\n>     *   Analisar os tempos de entrega e taxas de devolução de produtos para identificar possíveis problemas na logística.\n>     *   Verificar se houve problemas com a disponibilidade de pessoal (vendedores, atendentes, etc.) que possam ter afetado o atendimento ao cliente.\n> \n> 5.  **Análise do Ambiente de Mercado:**\n>     *   Analisar as tendências de mercado e sazonalidade de vendas para verificar se a queda é um fenômeno geral do mercado ou específico da empresa.\n>     *   Monitorar as ações da concorrência (lançamentos de produtos, promoções, etc.) que possam ter afetado as vendas da empresa.\n>     *   Analisar os indicadores econômicos relevantes (taxa de juros, inflação, etc.) para verificar se houve mudanças no poder de compra dos consumidores.\n> \n> 6.  **Análise dos Canais de Venda:**\n>     *   Comparar o desempenho de cada canal de venda (e-commerce, loja física, televendas, etc.) no último mês em comparação com os meses anteriores.\n>     *   Analisar as taxas de abandono de carrinho em e-commerce para identificar possíveis problemas na experiência de compra online.\n>     *   Analisar o desempenho de cada canal em termos de receita, custo e satisfação do cliente para identificar possíveis áreas de melhoria.\n> \n> 7.  **Integração e Análise Multivariada:**\n>     *   Combinar os dados de vendas, marketing, clientes, operações, mercado e canais de venda em um modelo integrado.\n>     *   Utilizar técnicas de análise multivariada (regressão, análise de clusters, etc.) para identificar os principais fatores que contribuíram para a queda nas vendas.\n>     *   Criar dashboards e relatórios interativos para visualizar os resultados da análise e facilitar a identificação de insights.\n> \n> 8.  **Formulação de Hipóteses e Testes:**\n>     *   Com base na análise dos dados, formular hipóteses sobre as causas da queda nas vendas.\n>     *   Realizar testes A/B ou experimentos controlados para validar as hipóteses e identificar as melhores soluções para reverter a queda.\n> \n> 9.  **Recomendação de Ações Corretivas:**\n>     *   Com base nos resultados da análise e dos testes, recomendar ações corretivas específicas para cada área da empresa (marketing, vendas, operações, etc.).\n>     *   Monitorar os resultados das ações corretivas e ajustar a estratégia conforme necessário."
          },
          "metadata": {}
        },
        {
          "output_type": "stream",
          "name": "stdout",
          "text": [
            "\n",
            "--- Próximo Passo ---\n",
            "O que você quer fazer? (Digite o número da etapa do plano para detalhar, 'dados' para fornecer resultados, ou 'sair' para terminar): sair\n",
            "\n",
            "👋 Obrigado por usar o assistente de análise de dados! Até a próxima!\n"
          ]
        }
      ]
    }
  ]
}